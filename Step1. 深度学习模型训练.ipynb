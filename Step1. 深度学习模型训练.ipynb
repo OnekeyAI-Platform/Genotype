{
 "cells": [
  {
   "cell_type": "markdown",
   "id": "e8b27860",
   "metadata": {},
   "source": [
    "# What\n",
    "分类任务，支持两种模式\n",
    "1. Folder模式，需要输入`train`, `valid`两个测试集对应的目录。`labels.txt`，需要训练的label，里面每个类别一行。\n",
    "2. List模式，需要输入`train`, `valid`两个测试集对应的训练文件，每行一个样本。`labels.txt`是可选参数，里面每个类别一行。`data_pattern`一个通用的目录，与train、val中的第一列进行拼接。"
   ]
  },
  {
   "cell_type": "code",
   "execution_count": null,
   "id": "7050436a",
   "metadata": {},
   "outputs": [],
   "source": [
    "import os\n",
    "from onekey_algo.classification.run_classification import main as clf_main\n",
    "from collections import namedtuple\n",
    "\n",
    "# 设置参数\n",
    "root = r'E:\\20230527-LiXueJie'\n",
    "# for model_name in ['densenet121']:\n",
    "for model_name in ['resnet18', 'resnet50', 'inception_v3']:\n",
    "    train_f = os.path.join(root, 'split_info', 'train-RND-0.txt')\n",
    "    val_f = os.path.join(root, 'split_info', 'val-RND-0.txt')\n",
    "    labels_f = os.path.join(root, 'split_info', 'labels.txt')\n",
    "    data_pattern = r''\n",
    "\n",
    "    params = dict(train=train_f,\n",
    "                  valid=val_f,\n",
    "                  labels_file=labels_f,\n",
    "                  data_pattern=data_pattern,\n",
    "                  j=12,\n",
    "                  max2use=None,\n",
    "                  val_max2use=None,\n",
    "                  batch_balance=False,\n",
    "                  normalize_method='imagenet',\n",
    "                  model_name=model_name,\n",
    "                  gpus=[0],\n",
    "                  batch_size=128,\n",
    "                  epochs=10,\n",
    "                  init_lr=0.01,\n",
    "                  optimizer='sgd',\n",
    "                  retrain=r'',\n",
    "                  model_root=r'E:\\20230527-LiXueJie\\models', #os.path.join(root, 'models'),\n",
    "                  iters_start=0,\n",
    "                  iters_verbose=128,\n",
    "                  save_per_epoch=True,\n",
    "                  add_date=False,\n",
    "                  pretrained=True)\n",
    "    # 训练模型\n",
    "    Args = namedtuple(\"Args\", params)\n",
    "    clf_main(Args(**params))"
   ]
  },
  {
   "cell_type": "code",
   "execution_count": null,
   "id": "ce1f8dc1",
   "metadata": {},
   "outputs": [],
   "source": []
  }
 ],
 "metadata": {
  "kernelspec": {
   "display_name": "Python 3 (ipykernel)",
   "language": "python",
   "name": "python3"
  },
  "language_info": {
   "codemirror_mode": {
    "name": "ipython",
    "version": 3
   },
   "file_extension": ".py",
   "mimetype": "text/x-python",
   "name": "python",
   "nbconvert_exporter": "python",
   "pygments_lexer": "ipython3",
   "version": "3.7.12"
  }
 },
 "nbformat": 4,
 "nbformat_minor": 5
}
