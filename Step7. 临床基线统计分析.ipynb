{
 "cells": [
  {
   "cell_type": "markdown",
   "metadata": {},
   "source": [
    "## 统计分析\n",
    "\n",
    "通过指定统计分析字段，得到每个特征的p_value，所有的p_value计算都是基于Ttest计算。支持指定不同的分组`group`，例如train、val、test等分组统计。\n",
    "\n",
    "对于两大类不同的特征\n",
    "\n",
    "1. 离散特征，统计数量以及占比。\n",
    "2. 连续特征，统计均值、方差。"
   ]
  },
  {
   "cell_type": "code",
   "execution_count": null,
   "metadata": {
    "scrolled": false
   },
   "outputs": [],
   "source": [
    "import pandas as pd\n",
    "import numpy as np\n",
    "from onekey_algo import OnekeyDS as okds\n",
    "from onekey_algo import get_param_in_cwd\n",
    "import re\n",
    "from functools import reduce\n",
    "from onekey_algo.custom.utils import print_join_info\n",
    "\n",
    "def map2volume(v):\n",
    "    try:\n",
    "        return reduce(lambda x,y: x*y, [float(i) for i in re.split('[x|X|.|,]', v)])\n",
    "    except:\n",
    "        return np.nan\n",
    "\n",
    "task = 'label'\n",
    "# 修改成自己临床数据的文件。\n",
    "test_data = pd.read_csv(get_param_in_cwd('clinic_file'))\n",
    "test_data = test_data[[c for c in test_data.columns if c != task]]\n",
    "test_data['ID'] = test_data['ID'].astype(str)\n",
    "\n",
    "group_info = pd.read_csv('group.csv')\n",
    "group_info['ID'] = group_info['ID'].astype(str)\n",
    "print_join_info(test_data, group_info)\n",
    "test_data = pd.merge(test_data, group_info, on='ID', how='inner')\n",
    "test_data.columns = ['_'.join(re.split('[(|（|\\[]', c)[0].split(' ')).strip('_') for c in test_data.columns]\n",
    "# test_data['size'] = test_data['size'].map(lambda v:  map2volume(v))\n",
    "# test_data = test_data.drop(['genetic_mutation'], axis=1)\n",
    "test_data"
   ]
  },
  {
   "cell_type": "code",
   "execution_count": null,
   "metadata": {},
   "outputs": [],
   "source": [
    "test_data.columns = [c.replace('-', '_').replace(' ', '_') for c in test_data.columns]\n",
    "test_data.columns"
   ]
  },
  {
   "cell_type": "code",
   "execution_count": null,
   "metadata": {},
   "outputs": [],
   "source": [
    "stats_columns = list(test_data.columns)[1:-2]\n",
    "continuous_columns = []\n",
    "for c in stats_columns:\n",
    "    if len(np.unique(test_data[c])) > 5:\n",
    "        continuous_columns.append(c)\n",
    "        \n",
    "continuous_columns"
   ]
  },
  {
   "cell_type": "markdown",
   "metadata": {},
   "source": [
    "# 数据映射\n",
    "\n",
    "针对所有非数值形式的数据，可以进行类别映射。"
   ]
  },
  {
   "cell_type": "code",
   "execution_count": null,
   "metadata": {},
   "outputs": [],
   "source": [
    "from onekey_algo.custom.utils import map2numerical\n",
    "import json\n",
    "\n",
    "mapping_columns = [c for c in test_data.columns[1:-2] if test_data[c].dtype == object]\n",
    "data, mapping = map2numerical(test_data, mapping_columns=mapping_columns)\n",
    "print(json.dumps(mapping, indent=True, ensure_ascii=False))"
   ]
  },
  {
   "cell_type": "markdown",
   "metadata": {},
   "source": [
    "# 缺失值填充"
   ]
  },
  {
   "cell_type": "code",
   "execution_count": null,
   "metadata": {},
   "outputs": [],
   "source": [
    "from onekey_algo.custom.components.comp1 import fillna\n",
    "data = fillna(data, fill_mod='50%')\n",
    "data.to_csv('features/clinical.csv', index=False, encoding='utf-8-sig')\n",
    "data"
   ]
  },
  {
   "cell_type": "markdown",
   "metadata": {},
   "source": [
    "### 输出格式\n",
    "支持两种格式数据，分别对应`pretty`参数的`True`和`False`, 当为`True`时，输出的是表格模式，反之则为dict数据。\n",
    "\n",
    "```python\n",
    "def clinic_stats(data: DataFrame, stats_columns: Union[str, List[str]], label_column='label',\n",
    "                 group_column: str = None, continuous_columns: Union[str, List[str]] = None,\n",
    "                 pretty: bool = True) -> Union[dict, DataFrame]:\n",
    "    \"\"\"\n",
    "\n",
    "    Args:\n",
    "        data: 数据\n",
    "        stats_columns: 需要统计的列名\n",
    "        label_column: 二分类的标签列，默认`label`\n",
    "        group_column: 分组统计依据，例如区分训练组、测试组、验证组。\n",
    "        continuous_columns: 那些列是连续变量，连续变量统计均值方差。\n",
    "        pretty: bool, 是否对结果进行格式美化。\n",
    "\n",
    "    Returns:\n",
    "        stats DataFrame or json\n",
    "\n",
    "    \"\"\"\n",
    "```"
   ]
  },
  {
   "cell_type": "code",
   "execution_count": null,
   "metadata": {
    "scrolled": false
   },
   "outputs": [],
   "source": [
    "from onekey_algo.custom.components.stats import clinic_stats\n",
    "import pandas as pd\n",
    "pd.set_option('max_rows', None)\n",
    "stats = clinic_stats(data, \n",
    "                     stats_columns= stats_columns,\n",
    "                     label_column=task, \n",
    "                     group_column='group', \n",
    "                     continuous_columns= continuous_columns, \n",
    "                     pretty=True, verbose=False)\n",
    "stats.to_csv('stats.csv', index=False, encoding='utf_8_sig')\n",
    "stats"
   ]
  },
  {
   "cell_type": "code",
   "execution_count": null,
   "metadata": {
    "code_folding": []
   },
   "outputs": [],
   "source": [
    "sel_idx = [True if (isinstance(pv[0], str) and pv[0] != '') or (isinstance(pv[0], float) and pv[0] < 0.05) else False \n",
    "           for pv in np.array(stats['pvalue'])]\n",
    "data[['ID'] + list(stats[sel_idx]['feature_name']) + ['group', 'label']].to_csv('clinic_sel.csv', index=False)"
   ]
  },
  {
   "cell_type": "code",
   "execution_count": null,
   "metadata": {
    "scrolled": false
   },
   "outputs": [],
   "source": [
    "from onekey_algo.custom.components.comp1 import uni_multi_variable_analysis                        \n",
    "\n",
    "p_value=0.05\n",
    "uni_multi_variable_analysis(data[data['group'] == 'train'], stats_columns, save_dir='img', p_value4multi=p_value, hazard_ratios=True)"
   ]
  },
  {
   "cell_type": "code",
   "execution_count": null,
   "metadata": {},
   "outputs": [],
   "source": [
    "uni_v = pd.read_csv('img/multivariable_reg.csv')\n",
    "uni_v = uni_v[uni_v['p_value'] < .05]\n",
    "sel_data = data[['ID'] + list(uni_v['feature_name']) + ['group', 'label']]\n",
    "sel_data.to_csv('clinic_sel.csv', index=False)\n",
    "sel_data"
   ]
  },
  {
   "cell_type": "code",
   "execution_count": null,
   "metadata": {},
   "outputs": [],
   "source": [
    "uni = pd.read_csv('img/univariable_reg.csv')\n",
    "uni = uni[[c for c in uni if ('OR' in c and 'Log' not in c) or c in ['feature_name', 'p_value']]]\n",
    "multi = pd.read_csv('img/multivariable_reg.csv')\n",
    "multi = multi[[c for c in uni if ('OR' in c and 'Log' not in c) or c in ['feature_name', 'p_value']]]\n",
    "pd.merge(uni, multi,\n",
    "         on='feature_name', how='left', suffixes=['_UNI', '_MULTI']).applymap(lambda x: '' if pd.isna(x) else x)"
   ]
  },
  {
   "cell_type": "code",
   "execution_count": null,
   "metadata": {},
   "outputs": [],
   "source": []
  }
 ],
 "metadata": {
  "kernelspec": {
   "display_name": "Python 3 (ipykernel)",
   "language": "python",
   "name": "python3"
  },
  "language_info": {
   "codemirror_mode": {
    "name": "ipython",
    "version": 3
   },
   "file_extension": ".py",
   "mimetype": "text/x-python",
   "name": "python",
   "nbconvert_exporter": "python",
   "pygments_lexer": "ipython3",
   "version": "3.7.12"
  }
 },
 "nbformat": 4,
 "nbformat_minor": 4
}
